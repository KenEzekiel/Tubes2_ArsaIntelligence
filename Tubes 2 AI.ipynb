{
 "cells": [
  {
   "cell_type": "markdown",
   "source": [
    "# Tubes 2 AI\n"
   ],
   "attachments": {},
   "metadata": {
    "datalore": {
     "node_id": "upwNcOPSwoHFkOxVzE7Br8",
     "type": "MD",
     "hide_input_from_viewers": false,
     "hide_output_from_viewers": false,
     "report_properties": {
      "rowId": "0bz32bcjQDFKOzMsMonpyc"
     }
    }
   }
  },
  {
   "cell_type": "markdown",
   "source": [
    "# Anggota Kelompok\n",
    "## 13521087 Razzan Daksana Yoni\n",
    "## 13521089 Kenneth Ezekiel Suprantoni\n",
    "## 13521095 Muhammad Aji Wibisono\n",
    "## 13521101 Arsa Izdihar Islam"
   ],
   "attachments": {},
   "metadata": {
    "datalore": {
     "node_id": "SnJwqKCL0wsXjnzJtG6a3f",
     "type": "MD",
     "hide_input_from_viewers": true,
     "hide_output_from_viewers": true
    }
   }
  },
  {
   "cell_type": "code",
   "source": [
    "from abc import ABC, abstractmethod\n",
    "import pickle\n",
    "import numpy as np\n",
    "from sklearn.neighbors import KNeighborsClassifier\n",
    "from sklearn.metrics import accuracy_score, precision_score, recall_score\n",
    "from sklearn.model_selection import train_test_split\n",
    "from sklearn.feature_selection import f_classif\n",
    "import math\n",
    "from collections import Counter\n",
    "import pandas as pd"
   ],
   "execution_count": 77,
   "outputs": [],
   "metadata": {
    "datalore": {
     "node_id": "1VSWAwP86Dz7lfFlR6Zi8n",
     "type": "CODE",
     "hide_input_from_viewers": false,
     "hide_output_from_viewers": false,
     "report_properties": {
      "rowId": "RXV97JN6IcVkYYnvyckbkE"
     }
    }
   }
  },
  {
   "cell_type": "code",
   "source": [
    "# Data Preparation\n",
    "\n",
    "df = pd.read_csv(\"data/data_train.csv\")\n",
    "\n",
    "# Numeric Attributes\n",
    "numerical_columns = [\n",
    "    'battery_power',\n",
    "    'clock_speed',\n",
    "    'fc',\n",
    "    'int_memory',\n",
    "    'm_dep',\n",
    "    'mobile_wt',\n",
    "    'n_cores',\n",
    "    'pc',\n",
    "    'px_height',\n",
    "    'px_width',\n",
    "    'ram',\n",
    "    'sc_h',\n",
    "    'sc_w',\n",
    "    'talk_time'\n",
    "]\n",
    "\n",
    "# Ordinal Attributes\n",
    "ordinal_columns = [\n",
    "    'price_range'\n",
    "]\n",
    "\n",
    "# Nominal Attributes\n",
    "nominal_columns = [c for c in df.columns if c not in numerical_columns and c not in ordinal_columns]\n",
    "\n",
    "print(df['price_range'].unique())"
   ],
   "execution_count": 78,
   "outputs": [
    {
     "name": "stdout",
     "text": [
      "[1 2 0 3]\n"
     ],
     "output_type": "stream"
    }
   ],
   "metadata": {
    "datalore": {
     "node_id": "2q1d1aMMevlGukIT4YZpU8",
     "type": "CODE",
     "hide_input_from_viewers": false,
     "hide_output_from_viewers": false,
     "report_properties": {
      "rowId": "sOmW1gerPakAv2U7KYQGcg"
     }
    }
   }
  },
  {
   "cell_type": "code",
   "source": [
    "nominal_columns"
   ],
   "execution_count": 79,
   "outputs": [
    {
     "data": {
      "text/plain": [
       "['blue', 'dual_sim', 'four_g', 'three_g', 'touch_screen', 'wifi']"
      ]
     },
     "metadata": {},
     "output_type": "display_data"
    }
   ],
   "metadata": {
    "datalore": {
     "node_id": "iqWC31iM4VD4ivAr4vG0Gw",
     "type": "CODE",
     "hide_input_from_viewers": false,
     "hide_output_from_viewers": false,
     "report_properties": {
      "rowId": "sIJwB6qUVRSgbTb47wHvd2"
     }
    }
   }
  },
  {
   "cell_type": "code",
   "source": [
    "# check for nominal columns (boolean columns) using contingency table\n",
    "from scipy.stats import chi2_contingency\n",
    "\n",
    "def show_chi_contingency(col):\n",
    "    print(\"column:\", col)\n",
    "    contingency = pd.crosstab(index=df[col], columns=df['price_range'], normalize='index')\n",
    "    res = chi2_contingency(contingency)\n",
    "    print(\"p =\", res[1])\n",
    "    return contingency"
   ],
   "execution_count": 80,
   "outputs": [],
   "metadata": {
    "datalore": {
     "node_id": "Goj4hjTLtiy9uBP3PFzBLf",
     "type": "CODE",
     "hide_input_from_viewers": false,
     "hide_output_from_viewers": false,
     "report_properties": {
      "rowId": "bwDOJEoadN6LLefc7d7v0u"
     }
    }
   }
  },
  {
   "cell_type": "code",
   "source": [
    "show_chi_contingency('blue')"
   ],
   "execution_count": 81,
   "outputs": [
    {
     "name": "stdout",
     "text": [
      "column: blue\n",
      "p = 0.9999306682714457\n"
     ],
     "output_type": "stream"
    },
    {
     "data": {
      "text/html": [
       "<div>\n",
       "<style scoped>\n",
       "    .dataframe tbody tr th:only-of-type {\n",
       "        vertical-align: middle;\n",
       "    }\n",
       "\n",
       "    .dataframe tbody tr th {\n",
       "        vertical-align: top;\n",
       "    }\n",
       "\n",
       "    .dataframe thead th {\n",
       "        text-align: right;\n",
       "    }\n",
       "</style>\n",
       "<table border=\"1\" class=\"dataframe\">\n",
       "  <thead>\n",
       "    <tr style=\"text-align: right;\">\n",
       "      <th>price_range</th>\n",
       "      <th>0</th>\n",
       "      <th>1</th>\n",
       "      <th>2</th>\n",
       "      <th>3</th>\n",
       "    </tr>\n",
       "    <tr>\n",
       "      <th>blue</th>\n",
       "      <th></th>\n",
       "      <th></th>\n",
       "      <th></th>\n",
       "      <th></th>\n",
       "    </tr>\n",
       "  </thead>\n",
       "  <tbody>\n",
       "    <tr>\n",
       "      <th>0</th>\n",
       "      <td>0.265162</td>\n",
       "      <td>0.265162</td>\n",
       "      <td>0.242595</td>\n",
       "      <td>0.227080</td>\n",
       "    </tr>\n",
       "    <tr>\n",
       "      <th>1</th>\n",
       "      <td>0.246020</td>\n",
       "      <td>0.243126</td>\n",
       "      <td>0.250362</td>\n",
       "      <td>0.260492</td>\n",
       "    </tr>\n",
       "  </tbody>\n",
       "</table>\n",
       "</div>"
      ]
     },
     "metadata": {},
     "output_type": "display_data"
    }
   ],
   "metadata": {
    "datalore": {
     "node_id": "WrOJWgxodIlb0VYAahi2zB",
     "type": "CODE",
     "hide_input_from_viewers": false,
     "hide_output_from_viewers": false,
     "report_properties": {
      "rowId": "8DqGXof1WEhYuIrrLj3tlL"
     }
    }
   }
  },
  {
   "cell_type": "code",
   "source": [
    "show_chi_contingency('dual_sim')"
   ],
   "execution_count": 82,
   "outputs": [
    {
     "name": "stdout",
     "text": [
      "column: dual_sim\n",
      "p = 0.9999360384691366\n"
     ],
     "output_type": "stream"
    },
    {
     "data": {
      "text/html": [
       "<div>\n",
       "<style scoped>\n",
       "    .dataframe tbody tr th:only-of-type {\n",
       "        vertical-align: middle;\n",
       "    }\n",
       "\n",
       "    .dataframe tbody tr th {\n",
       "        vertical-align: top;\n",
       "    }\n",
       "\n",
       "    .dataframe thead th {\n",
       "        text-align: right;\n",
       "    }\n",
       "</style>\n",
       "<table border=\"1\" class=\"dataframe\">\n",
       "  <thead>\n",
       "    <tr style=\"text-align: right;\">\n",
       "      <th>price_range</th>\n",
       "      <th>0</th>\n",
       "      <th>1</th>\n",
       "      <th>2</th>\n",
       "      <th>3</th>\n",
       "    </tr>\n",
       "    <tr>\n",
       "      <th>dual_sim</th>\n",
       "      <th></th>\n",
       "      <th></th>\n",
       "      <th></th>\n",
       "      <th></th>\n",
       "    </tr>\n",
       "  </thead>\n",
       "  <tbody>\n",
       "    <tr>\n",
       "      <th>0</th>\n",
       "      <td>0.245690</td>\n",
       "      <td>0.254310</td>\n",
       "      <td>0.264368</td>\n",
       "      <td>0.235632</td>\n",
       "    </tr>\n",
       "    <tr>\n",
       "      <th>1</th>\n",
       "      <td>0.265625</td>\n",
       "      <td>0.254261</td>\n",
       "      <td>0.228693</td>\n",
       "      <td>0.251420</td>\n",
       "    </tr>\n",
       "  </tbody>\n",
       "</table>\n",
       "</div>"
      ]
     },
     "metadata": {},
     "output_type": "display_data"
    }
   ],
   "metadata": {
    "datalore": {
     "node_id": "J45nQdOMnacMYoUMjXS5wP",
     "type": "CODE",
     "hide_input_from_viewers": false,
     "hide_output_from_viewers": false,
     "report_properties": {
      "rowId": "x7znexdRM4ZGBJk0i68gjM"
     }
    }
   }
  },
  {
   "cell_type": "code",
   "source": [
    "show_chi_contingency('four_g')"
   ],
   "execution_count": 83,
   "outputs": [
    {
     "name": "stdout",
     "text": [
      "column: four_g\n",
      "p = 0.9999600883636923\n"
     ],
     "output_type": "stream"
    },
    {
     "data": {
      "text/html": [
       "<div>\n",
       "<style scoped>\n",
       "    .dataframe tbody tr th:only-of-type {\n",
       "        vertical-align: middle;\n",
       "    }\n",
       "\n",
       "    .dataframe tbody tr th {\n",
       "        vertical-align: top;\n",
       "    }\n",
       "\n",
       "    .dataframe thead th {\n",
       "        text-align: right;\n",
       "    }\n",
       "</style>\n",
       "<table border=\"1\" class=\"dataframe\">\n",
       "  <thead>\n",
       "    <tr style=\"text-align: right;\">\n",
       "      <th>price_range</th>\n",
       "      <th>0</th>\n",
       "      <th>1</th>\n",
       "      <th>2</th>\n",
       "      <th>3</th>\n",
       "    </tr>\n",
       "    <tr>\n",
       "      <th>four_g</th>\n",
       "      <th></th>\n",
       "      <th></th>\n",
       "      <th></th>\n",
       "      <th></th>\n",
       "    </tr>\n",
       "  </thead>\n",
       "  <tbody>\n",
       "    <tr>\n",
       "      <th>0</th>\n",
       "      <td>0.253799</td>\n",
       "      <td>0.24924</td>\n",
       "      <td>0.262918</td>\n",
       "      <td>0.234043</td>\n",
       "    </tr>\n",
       "    <tr>\n",
       "      <th>1</th>\n",
       "      <td>0.257412</td>\n",
       "      <td>0.25876</td>\n",
       "      <td>0.231806</td>\n",
       "      <td>0.252022</td>\n",
       "    </tr>\n",
       "  </tbody>\n",
       "</table>\n",
       "</div>"
      ]
     },
     "metadata": {},
     "output_type": "display_data"
    }
   ],
   "metadata": {
    "datalore": {
     "node_id": "6H2DRGt2zYoAnz26hJCtQ9",
     "type": "CODE",
     "hide_input_from_viewers": false,
     "hide_output_from_viewers": false,
     "report_properties": {
      "rowId": "sP40DbRw4GZy3NG5wO0Xcd"
     }
    }
   }
  },
  {
   "cell_type": "code",
   "source": [
    "show_chi_contingency('three_g')"
   ],
   "execution_count": 84,
   "outputs": [
    {
     "name": "stdout",
     "text": [
      "column: three_g\n",
      "p = 0.9997915321532349\n"
     ],
     "output_type": "stream"
    },
    {
     "data": {
      "text/html": [
       "<div>\n",
       "<style scoped>\n",
       "    .dataframe tbody tr th:only-of-type {\n",
       "        vertical-align: middle;\n",
       "    }\n",
       "\n",
       "    .dataframe tbody tr th {\n",
       "        vertical-align: top;\n",
       "    }\n",
       "\n",
       "    .dataframe thead th {\n",
       "        text-align: right;\n",
       "    }\n",
       "</style>\n",
       "<table border=\"1\" class=\"dataframe\">\n",
       "  <thead>\n",
       "    <tr style=\"text-align: right;\">\n",
       "      <th>price_range</th>\n",
       "      <th>0</th>\n",
       "      <th>1</th>\n",
       "      <th>2</th>\n",
       "      <th>3</th>\n",
       "    </tr>\n",
       "    <tr>\n",
       "      <th>three_g</th>\n",
       "      <th></th>\n",
       "      <th></th>\n",
       "      <th></th>\n",
       "      <th></th>\n",
       "    </tr>\n",
       "  </thead>\n",
       "  <tbody>\n",
       "    <tr>\n",
       "      <th>0</th>\n",
       "      <td>0.295522</td>\n",
       "      <td>0.223881</td>\n",
       "      <td>0.241791</td>\n",
       "      <td>0.238806</td>\n",
       "    </tr>\n",
       "    <tr>\n",
       "      <th>1</th>\n",
       "      <td>0.243192</td>\n",
       "      <td>0.263850</td>\n",
       "      <td>0.247887</td>\n",
       "      <td>0.245070</td>\n",
       "    </tr>\n",
       "  </tbody>\n",
       "</table>\n",
       "</div>"
      ]
     },
     "metadata": {},
     "output_type": "display_data"
    }
   ],
   "metadata": {
    "datalore": {
     "node_id": "YDkIwr2QKPrlFCH5qbXW7F",
     "type": "CODE",
     "hide_input_from_viewers": false,
     "hide_output_from_viewers": false,
     "report_properties": {
      "rowId": "EGPKFcDTNV5ebxiebzJNAn"
     }
    }
   }
  },
  {
   "cell_type": "code",
   "source": [
    "show_chi_contingency('touch_screen')"
   ],
   "execution_count": 85,
   "outputs": [
    {
     "name": "stdout",
     "text": [
      "column: touch_screen\n",
      "p = 0.99993024036726\n"
     ],
     "output_type": "stream"
    },
    {
     "data": {
      "text/html": [
       "<div>\n",
       "<style scoped>\n",
       "    .dataframe tbody tr th:only-of-type {\n",
       "        vertical-align: middle;\n",
       "    }\n",
       "\n",
       "    .dataframe tbody tr th {\n",
       "        vertical-align: top;\n",
       "    }\n",
       "\n",
       "    .dataframe thead th {\n",
       "        text-align: right;\n",
       "    }\n",
       "</style>\n",
       "<table border=\"1\" class=\"dataframe\">\n",
       "  <thead>\n",
       "    <tr style=\"text-align: right;\">\n",
       "      <th>price_range</th>\n",
       "      <th>0</th>\n",
       "      <th>1</th>\n",
       "      <th>2</th>\n",
       "      <th>3</th>\n",
       "    </tr>\n",
       "    <tr>\n",
       "      <th>touch_screen</th>\n",
       "      <th></th>\n",
       "      <th></th>\n",
       "      <th></th>\n",
       "      <th></th>\n",
       "    </tr>\n",
       "  </thead>\n",
       "  <tbody>\n",
       "    <tr>\n",
       "      <th>0</th>\n",
       "      <td>0.250350</td>\n",
       "      <td>0.239161</td>\n",
       "      <td>0.260140</td>\n",
       "      <td>0.250350</td>\n",
       "    </tr>\n",
       "    <tr>\n",
       "      <th>1</th>\n",
       "      <td>0.261314</td>\n",
       "      <td>0.270073</td>\n",
       "      <td>0.232117</td>\n",
       "      <td>0.236496</td>\n",
       "    </tr>\n",
       "  </tbody>\n",
       "</table>\n",
       "</div>"
      ]
     },
     "metadata": {},
     "output_type": "display_data"
    }
   ],
   "metadata": {
    "datalore": {
     "node_id": "N4m30JHKolYVXlE1Likz5v",
     "type": "CODE",
     "hide_input_from_viewers": false,
     "hide_output_from_viewers": false,
     "report_properties": {
      "rowId": "mnNtn4LiQBQsSnH6uEoct5"
     }
    }
   }
  },
  {
   "cell_type": "code",
   "source": [
    "show_chi_contingency('wifi')"
   ],
   "execution_count": 86,
   "outputs": [
    {
     "name": "stdout",
     "text": [
      "column: wifi\n",
      "p = 0.9999157156926507\n"
     ],
     "output_type": "stream"
    },
    {
     "data": {
      "text/html": [
       "<div>\n",
       "<style scoped>\n",
       "    .dataframe tbody tr th:only-of-type {\n",
       "        vertical-align: middle;\n",
       "    }\n",
       "\n",
       "    .dataframe tbody tr th {\n",
       "        vertical-align: top;\n",
       "    }\n",
       "\n",
       "    .dataframe thead th {\n",
       "        text-align: right;\n",
       "    }\n",
       "</style>\n",
       "<table border=\"1\" class=\"dataframe\">\n",
       "  <thead>\n",
       "    <tr style=\"text-align: right;\">\n",
       "      <th>price_range</th>\n",
       "      <th>0</th>\n",
       "      <th>1</th>\n",
       "      <th>2</th>\n",
       "      <th>3</th>\n",
       "    </tr>\n",
       "    <tr>\n",
       "      <th>wifi</th>\n",
       "      <th></th>\n",
       "      <th></th>\n",
       "      <th></th>\n",
       "      <th></th>\n",
       "    </tr>\n",
       "  </thead>\n",
       "  <tbody>\n",
       "    <tr>\n",
       "      <th>0</th>\n",
       "      <td>0.263083</td>\n",
       "      <td>0.257426</td>\n",
       "      <td>0.256011</td>\n",
       "      <td>0.223479</td>\n",
       "    </tr>\n",
       "    <tr>\n",
       "      <th>1</th>\n",
       "      <td>0.248196</td>\n",
       "      <td>0.251082</td>\n",
       "      <td>0.236652</td>\n",
       "      <td>0.264069</td>\n",
       "    </tr>\n",
       "  </tbody>\n",
       "</table>\n",
       "</div>"
      ]
     },
     "metadata": {},
     "output_type": "display_data"
    }
   ],
   "metadata": {
    "datalore": {
     "node_id": "yMngdvjobIjirukvNmopBL",
     "type": "CODE",
     "hide_input_from_viewers": false,
     "hide_output_from_viewers": false,
     "report_properties": {
      "rowId": "z9A6RAiu2YDqidtz8oiMfM"
     }
    }
   }
  },
  {
   "cell_type": "code",
   "source": [
    "from itertools import product\n",
    "# ['blue', 'dual_sim', 'four_g', 'three_g', 'touch_screen', 'wifi']\n",
    "boolean_columns = ['blue', 'dual_sim', 'four_g', 'three_g', 'touch_screen', 'wifi']\n",
    "combinations = list(product([True, False], repeat=len(boolean_columns)))\n",
    "\n",
    "for combination in combinations:\n",
    "    combination_columns = []\n",
    "    for i, column in enumerate(combination):\n",
    "        if column:\n",
    "            combination_columns.append(boolean_columns[i])\n",
    "            # result_df \n",
    "    df['combined_booleans'] = df[combination_columns].all(axis=1)\n",
    "    print(combination_columns)\n",
    "    show_chi_contingency('combined_booleans')\n",
    "\n",
    "df = df.drop('combined_booleans', axis=1)"
   ],
   "execution_count": 87,
   "outputs": [
    {
     "name": "stdout",
     "text": [
      "['blue', 'dual_sim', 'four_g', 'three_g', 'touch_screen', 'wifi']\n",
      "column: combined_booleans\n",
      "p = 0.990209773843712\n",
      "['blue', 'dual_sim', 'four_g', 'three_g', 'touch_screen']\n",
      "column: combined_booleans\n",
      "p = 0.996055810961424\n",
      "['blue', 'dual_sim', 'four_g', 'three_g', 'wifi']\n",
      "column: combined_booleans\n",
      "p = 0.9969576817681661\n",
      "['blue', 'dual_sim', 'four_g', 'three_g']\n",
      "column: combined_booleans\n",
      "p = 0.9995504359172259\n",
      "['blue', 'dual_sim', 'four_g', 'touch_screen', 'wifi']\n",
      "column: combined_booleans\n",
      "p = 0.990209773843712\n",
      "['blue', 'dual_sim', 'four_g', 'touch_screen']\n",
      "column: combined_booleans\n",
      "p = 0.996055810961424\n",
      "['blue', 'dual_sim', 'four_g', 'wifi']\n",
      "column: combined_booleans\n",
      "p = 0.9969576817681661\n",
      "['blue', 'dual_sim', 'four_g']\n",
      "column: combined_booleans\n",
      "p = 0.9995504359172259\n",
      "['blue', 'dual_sim', 'three_g', 'touch_screen', 'wifi']\n",
      "column: combined_booleans\n",
      "p = 0.9951136068203249\n",
      "['blue', 'dual_sim', 'three_g', 'touch_screen']\n",
      "column: combined_booleans\n",
      "p = 0.9990435989859693\n",
      "['blue', 'dual_sim', 'three_g', 'wifi']\n",
      "column: combined_booleans\n",
      "p = 0.9993570846570532\n",
      "['blue', 'dual_sim', 'three_g']\n",
      "column: combined_booleans\n",
      "p = 0.9999363017965377\n",
      "['blue', 'dual_sim', 'touch_screen', 'wifi']\n",
      "column: combined_booleans\n",
      "p = 0.9946973849840042\n",
      "['blue', 'dual_sim', 'touch_screen']\n",
      "column: combined_booleans\n",
      "p = 0.9991643914226479\n",
      "['blue', 'dual_sim', 'wifi']\n",
      "column: combined_booleans\n",
      "p = 0.9992694814399218\n",
      "['blue', 'dual_sim']\n",
      "column: combined_booleans\n",
      "p = 0.9998463241410751\n",
      "['blue', 'four_g', 'three_g', 'touch_screen', 'wifi']\n",
      "column: combined_booleans\n",
      "p = 0.9989823631275284\n",
      "['blue', 'four_g', 'three_g', 'touch_screen']\n",
      "column: combined_booleans\n",
      "p = 0.9997748344430831\n",
      "['blue', 'four_g', 'three_g', 'wifi']\n",
      "column: combined_booleans\n",
      "p = 0.9987569618179233\n",
      "['blue', 'four_g', 'three_g']\n",
      "column: combined_booleans\n",
      "p = 0.9998900777574731\n",
      "['blue', 'four_g', 'touch_screen', 'wifi']\n",
      "column: combined_booleans\n",
      "p = 0.9989823631275284\n",
      "['blue', 'four_g', 'touch_screen']\n",
      "column: combined_booleans\n",
      "p = 0.9997748344430831\n",
      "['blue', 'four_g', 'wifi']\n",
      "column: combined_booleans\n",
      "p = 0.9987569618179233\n",
      "['blue', 'four_g']\n",
      "column: combined_booleans\n",
      "p = 0.9998900777574731\n",
      "['blue', 'three_g', 'touch_screen', 'wifi']\n",
      "column: combined_booleans\n",
      "p = 0.9989131502925795\n",
      "['blue', 'three_g', 'touch_screen']\n",
      "column: combined_booleans\n",
      "p = 0.9998486428779999\n",
      "['blue', 'three_g', 'wifi']\n",
      "column: combined_booleans\n",
      "p = 0.9995421091646433\n",
      "['blue', 'three_g']\n",
      "column: combined_booleans\n",
      "p = 0.9999097461626802\n",
      "['blue', 'touch_screen', 'wifi']\n",
      "column: combined_booleans\n",
      "p = 0.9986534209682194\n",
      "['blue', 'touch_screen']\n",
      "column: combined_booleans\n",
      "p = 0.9998477747103336\n",
      "['blue', 'wifi']\n",
      "column: combined_booleans\n",
      "p = 0.9995178153614749\n",
      "['blue']\n",
      "column: combined_booleans\n",
      "p = 0.9999306682714457\n",
      "['dual_sim', 'four_g', 'three_g', 'touch_screen', 'wifi']\n",
      "column: combined_booleans\n",
      "p = 0.9977666787643371\n",
      "['dual_sim', 'four_g', 'three_g', 'touch_screen']\n",
      "column: combined_booleans\n",
      "p = 0.9989147848716434\n",
      "['dual_sim', 'four_g', 'three_g', 'wifi']\n",
      "column: combined_booleans\n",
      "p = 0.9997294486400244\n",
      "['dual_sim', 'four_g', 'three_g']\n",
      "column: combined_booleans\n",
      "p = 0.9998553677118982\n",
      "['dual_sim', 'four_g', 'touch_screen', 'wifi']\n",
      "column: combined_booleans\n",
      "p = 0.9977666787643371\n",
      "['dual_sim', 'four_g', 'touch_screen']\n",
      "column: combined_booleans\n",
      "p = 0.9989147848716434\n",
      "['dual_sim', 'four_g', 'wifi']\n",
      "column: combined_booleans\n",
      "p = 0.9997294486400244\n",
      "['dual_sim', 'four_g']\n",
      "column: combined_booleans\n",
      "p = 0.9998553677118982\n",
      "['dual_sim', 'three_g', 'touch_screen', 'wifi']\n",
      "column: combined_booleans\n",
      "p = 0.999540237769247\n",
      "['dual_sim', 'three_g', 'touch_screen']\n",
      "column: combined_booleans\n",
      "p = 0.9998055231581718\n",
      "['dual_sim', 'three_g', 'wifi']\n",
      "column: combined_booleans\n",
      "p = 0.9999190293075352\n",
      "['dual_sim', 'three_g']\n",
      "column: combined_booleans\n",
      "p = 0.9999752790854687\n",
      "['dual_sim', 'touch_screen', 'wifi']\n",
      "column: combined_booleans\n",
      "p = 0.9997817773956481\n",
      "['dual_sim', 'touch_screen']\n",
      "column: combined_booleans\n",
      "p = 0.9998416903145295\n",
      "['dual_sim', 'wifi']\n",
      "column: combined_booleans\n",
      "p = 0.9999890080791561\n",
      "['dual_sim']\n",
      "column: combined_booleans\n",
      "p = 0.9999360384691366\n",
      "['four_g', 'three_g', 'touch_screen', 'wifi']\n",
      "column: combined_booleans\n",
      "p = 0.9996817980048944\n",
      "['four_g', 'three_g', 'touch_screen']\n",
      "column: combined_booleans\n",
      "p = 0.9998401299470053\n",
      "['four_g', 'three_g', 'wifi']\n",
      "column: combined_booleans\n",
      "p = 0.9995958755891329\n",
      "['four_g', 'three_g']\n",
      "column: combined_booleans\n",
      "p = 0.9999600883636923\n",
      "['four_g', 'touch_screen', 'wifi']\n",
      "column: combined_booleans\n",
      "p = 0.9996817980048944\n",
      "['four_g', 'touch_screen']\n",
      "column: combined_booleans\n",
      "p = 0.9998401299470053\n",
      "['four_g', 'wifi']\n",
      "column: combined_booleans\n",
      "p = 0.9995958755891329\n",
      "['four_g']\n",
      "column: combined_booleans\n",
      "p = 0.9999600883636923\n",
      "['three_g', 'touch_screen', 'wifi']\n",
      "column: combined_booleans\n",
      "p = 0.9998827338910854\n",
      "['three_g', 'touch_screen']\n",
      "column: combined_booleans\n",
      "p = 0.9999627465732235\n",
      "['three_g', 'wifi']\n",
      "column: combined_booleans\n",
      "p = 0.9998624703680089\n",
      "['three_g']\n",
      "column: combined_booleans\n",
      "p = 0.9997915321532349\n",
      "['touch_screen', 'wifi']\n",
      "column: combined_booleans\n",
      "p = 0.9999345080073034\n",
      "['touch_screen']\n",
      "column: combined_booleans\n",
      "p = 0.99993024036726\n",
      "['wifi']\n",
      "column: combined_booleans\n",
      "p = 0.9999157156926507\n",
      "[]\n",
      "column: combined_booleans\n",
      "p = 1.0\n"
     ],
     "output_type": "stream"
    }
   ],
   "metadata": {
    "datalore": {
     "node_id": "nF4sVI4JHlhKvDojvx3XdE",
     "type": "CODE",
     "hide_input_from_viewers": false,
     "hide_output_from_viewers": false,
     "report_properties": {
      "rowId": "LfyR6qeYf4njAoFIOfRXwn"
     }
    }
   }
  },
  {
   "cell_type": "markdown",
   "source": [
    "Berdasarkan test menggunakan chi squared tersebut terhadap fitur-fitur yang bertipe boolean, nilai p dari semua fitur lebih dari 0.99 sedangkan fitur yang baik untuk digunakan harusnya memiliki p value sekecil mungkin (sangat bagus apabila < 0.05). Maka dari itu, tidak ada fitur boolean yang dapat digunakan."
   ],
   "attachments": {},
   "metadata": {
    "datalore": {
     "node_id": "CElhrYSnvUOfZrW1Afufk5",
     "type": "MD",
     "hide_input_from_viewers": false,
     "hide_output_from_viewers": false,
     "report_properties": {
      "rowId": "lh0cLCN1PatsZuHKNetnpV"
     }
    }
   }
  },
  {
   "cell_type": "code",
   "source": [
    "# Check for numerical features using anova\n",
    "# Reference https://datascience.stackexchange.com/questions/74465/how-to-understand-anova-f-for-feature-selection-in-python-sklearn-selectkbest-w\n",
    "\n",
    "anova_x = df[numerical_columns]\n",
    "anova_y = df['price_range']\n",
    "\n",
    "f_scores, p_scores = f_classif(anova_x, anova_y)\n",
    "\n",
    "for column, f_score, p_score in zip(anova_x.columns, f_scores, p_scores):\n",
    "    # if(p_score < 0.05):\n",
    "    # if(p_score >= 0.05):\n",
    "        print(f\"{column}\\t\\t: p-score = {p_score}\")"
   ],
   "execution_count": 88,
   "outputs": [
    {
     "name": "stdout",
     "text": [
      "battery_power\t\t: p-score = 1.199878164181477e-12\n",
      "clock_speed\t\t: p-score = 0.947345457999534\n",
      "fc\t\t: p-score = 0.9844593072179413\n",
      "int_memory\t\t: p-score = 0.02193652500628816\n",
      "m_dep\t\t: p-score = 0.4192414002698195\n",
      "mobile_wt\t\t: p-score = 0.0024343700642573767\n",
      "n_cores\t\t: p-score = 0.3031233402282094\n",
      "pc\t\t: p-score = 0.9475768095830291\n",
      "px_height\t\t: p-score = 3.634821713583304e-10\n",
      "px_width\t\t: p-score = 1.4591634777808455e-11\n",
      "ram\t\t: p-score = 0.0\n",
      "sc_h\t\t: p-score = 0.08589662330366395\n",
      "sc_w\t\t: p-score = 0.20583807634591528\n",
      "talk_time\t\t: p-score = 0.44294679598239306\n"
     ],
     "output_type": "stream"
    }
   ],
   "metadata": {
    "datalore": {
     "node_id": "UoliIj6wZWrQljrr0nbII0",
     "type": "CODE",
     "hide_input_from_viewers": false,
     "hide_output_from_viewers": false,
     "report_properties": {
      "rowId": "7FBa4o8XDO63gdlUtcesO8"
     }
    }
   }
  },
  {
   "cell_type": "markdown",
   "source": [
    "Berdasarkan test menggunakan anova coefficient terhadap fitur-fitur yang bertipe numerik, nilai p dari dari fitur-fitur berikut lebih tinggi dari 0.05 dan kurang baik untuk digunakan\n",
    "\n",
    "`[clock_speed, fc, m_dep, n_cores, pc, sc_h, sc_w, dan talk time]`\n",
    "\n",
    "Sementara fitur-fitur berikut memiliki nilai p lebih rendah dari 0.05 dan baik untuk digunakan\n",
    "\n",
    "`[battery_power, int_memory, mobile_wt, px_height, px_width, ram]`"
   ],
   "attachments": {},
   "metadata": {
    "datalore": {
     "node_id": "jA3xhwhO4A20klQfLvgwLu",
     "type": "MD",
     "hide_input_from_viewers": false,
     "hide_output_from_viewers": false,
     "report_properties": {
      "rowId": "fLYRB4UPuMCeMY6clujj88"
     }
    }
   }
  },
  {
   "cell_type": "code",
   "source": [
    "# Detecting correlation between each other\n",
    "df_high_correlation = df.drop('price_range', axis=1).corr().abs()\n",
    "\n",
    "high_correlation_pairs = []\n",
    "high_correlation_threshold = 0.4\n",
    "\n",
    "for index, row in df_high_correlation.iterrows():\n",
    "    for column, value in row.items():\n",
    "        if value > high_correlation_threshold and column > index:\n",
    "            high_correlation_pairs.append((index, column))\n",
    "\n",
    "print(f\"Pair of features with correlation to each other higher than threshold ({high_correlation_threshold}):\")\n",
    "print(high_correlation_pairs)\n",
    "df_high_correlation"
   ],
   "execution_count": 89,
   "outputs": [
    {
     "name": "stdout",
     "text": [
      "Pair of features with correlation to each other higher than threshold (0.4):\n",
      "[('fc', 'pc'), ('four_g', 'three_g'), ('px_height', 'px_width'), ('sc_h', 'sc_w')]\n"
     ],
     "output_type": "stream"
    },
    {
     "data": {
      "text/html": [
       "<div>\n",
       "<style scoped>\n",
       "    .dataframe tbody tr th:only-of-type {\n",
       "        vertical-align: middle;\n",
       "    }\n",
       "\n",
       "    .dataframe tbody tr th {\n",
       "        vertical-align: top;\n",
       "    }\n",
       "\n",
       "    .dataframe thead th {\n",
       "        text-align: right;\n",
       "    }\n",
       "</style>\n",
       "<table border=\"1\" class=\"dataframe\">\n",
       "  <thead>\n",
       "    <tr style=\"text-align: right;\">\n",
       "      <th></th>\n",
       "      <th>battery_power</th>\n",
       "      <th>blue</th>\n",
       "      <th>clock_speed</th>\n",
       "      <th>dual_sim</th>\n",
       "      <th>fc</th>\n",
       "      <th>four_g</th>\n",
       "      <th>int_memory</th>\n",
       "      <th>m_dep</th>\n",
       "      <th>mobile_wt</th>\n",
       "      <th>n_cores</th>\n",
       "      <th>pc</th>\n",
       "      <th>px_height</th>\n",
       "      <th>px_width</th>\n",
       "      <th>ram</th>\n",
       "      <th>sc_h</th>\n",
       "      <th>sc_w</th>\n",
       "      <th>talk_time</th>\n",
       "      <th>three_g</th>\n",
       "      <th>touch_screen</th>\n",
       "      <th>wifi</th>\n",
       "    </tr>\n",
       "  </thead>\n",
       "  <tbody>\n",
       "    <tr>\n",
       "      <th>battery_power</th>\n",
       "      <td>1.000000</td>\n",
       "      <td>0.032533</td>\n",
       "      <td>0.012937</td>\n",
       "      <td>0.042946</td>\n",
       "      <td>0.005774</td>\n",
       "      <td>0.008559</td>\n",
       "      <td>0.016187</td>\n",
       "      <td>0.017010</td>\n",
       "      <td>0.011705</td>\n",
       "      <td>0.017015</td>\n",
       "      <td>0.003270</td>\n",
       "      <td>0.003244</td>\n",
       "      <td>0.019042</td>\n",
       "      <td>0.013218</td>\n",
       "      <td>0.022521</td>\n",
       "      <td>0.022134</td>\n",
       "      <td>0.038071</td>\n",
       "      <td>0.010436</td>\n",
       "      <td>0.023003</td>\n",
       "      <td>0.005806</td>\n",
       "    </tr>\n",
       "    <tr>\n",
       "      <th>blue</th>\n",
       "      <td>0.032533</td>\n",
       "      <td>1.000000</td>\n",
       "      <td>0.038409</td>\n",
       "      <td>0.047221</td>\n",
       "      <td>0.024450</td>\n",
       "      <td>0.012109</td>\n",
       "      <td>0.045101</td>\n",
       "      <td>0.013229</td>\n",
       "      <td>0.029245</td>\n",
       "      <td>0.044718</td>\n",
       "      <td>0.003586</td>\n",
       "      <td>0.008351</td>\n",
       "      <td>0.030716</td>\n",
       "      <td>0.051306</td>\n",
       "      <td>0.006653</td>\n",
       "      <td>0.016512</td>\n",
       "      <td>0.029351</td>\n",
       "      <td>0.018932</td>\n",
       "      <td>0.023140</td>\n",
       "      <td>0.025846</td>\n",
       "    </tr>\n",
       "    <tr>\n",
       "      <th>clock_speed</th>\n",
       "      <td>0.012937</td>\n",
       "      <td>0.038409</td>\n",
       "      <td>1.000000</td>\n",
       "      <td>0.008267</td>\n",
       "      <td>0.004902</td>\n",
       "      <td>0.039032</td>\n",
       "      <td>0.005417</td>\n",
       "      <td>0.023744</td>\n",
       "      <td>0.008879</td>\n",
       "      <td>0.011135</td>\n",
       "      <td>0.003518</td>\n",
       "      <td>0.016482</td>\n",
       "      <td>0.012462</td>\n",
       "      <td>0.022962</td>\n",
       "      <td>0.004114</td>\n",
       "      <td>0.020765</td>\n",
       "      <td>0.000566</td>\n",
       "      <td>0.046305</td>\n",
       "      <td>0.014256</td>\n",
       "      <td>0.016047</td>\n",
       "    </tr>\n",
       "    <tr>\n",
       "      <th>dual_sim</th>\n",
       "      <td>0.042946</td>\n",
       "      <td>0.047221</td>\n",
       "      <td>0.008267</td>\n",
       "      <td>1.000000</td>\n",
       "      <td>0.033578</td>\n",
       "      <td>0.017518</td>\n",
       "      <td>0.021980</td>\n",
       "      <td>0.048199</td>\n",
       "      <td>0.016087</td>\n",
       "      <td>0.021266</td>\n",
       "      <td>0.022957</td>\n",
       "      <td>0.028301</td>\n",
       "      <td>0.016451</td>\n",
       "      <td>0.011901</td>\n",
       "      <td>0.008547</td>\n",
       "      <td>0.003648</td>\n",
       "      <td>0.047028</td>\n",
       "      <td>0.018560</td>\n",
       "      <td>0.001551</td>\n",
       "      <td>0.035774</td>\n",
       "    </tr>\n",
       "    <tr>\n",
       "      <th>fc</th>\n",
       "      <td>0.005774</td>\n",
       "      <td>0.024450</td>\n",
       "      <td>0.004902</td>\n",
       "      <td>0.033578</td>\n",
       "      <td>1.000000</td>\n",
       "      <td>0.014253</td>\n",
       "      <td>0.041477</td>\n",
       "      <td>0.017144</td>\n",
       "      <td>0.027141</td>\n",
       "      <td>0.006261</td>\n",
       "      <td>0.644348</td>\n",
       "      <td>0.016191</td>\n",
       "      <td>0.050449</td>\n",
       "      <td>0.001307</td>\n",
       "      <td>0.010459</td>\n",
       "      <td>0.008810</td>\n",
       "      <td>0.003483</td>\n",
       "      <td>0.007020</td>\n",
       "      <td>0.004752</td>\n",
       "      <td>0.011708</td>\n",
       "    </tr>\n",
       "    <tr>\n",
       "      <th>four_g</th>\n",
       "      <td>0.008559</td>\n",
       "      <td>0.012109</td>\n",
       "      <td>0.039032</td>\n",
       "      <td>0.017518</td>\n",
       "      <td>0.014253</td>\n",
       "      <td>1.000000</td>\n",
       "      <td>0.000638</td>\n",
       "      <td>0.037858</td>\n",
       "      <td>0.015844</td>\n",
       "      <td>0.024001</td>\n",
       "      <td>0.016605</td>\n",
       "      <td>0.051457</td>\n",
       "      <td>0.009528</td>\n",
       "      <td>0.000408</td>\n",
       "      <td>0.014643</td>\n",
       "      <td>0.015249</td>\n",
       "      <td>0.045681</td>\n",
       "      <td>0.595575</td>\n",
       "      <td>0.000143</td>\n",
       "      <td>0.026592</td>\n",
       "    </tr>\n",
       "    <tr>\n",
       "      <th>int_memory</th>\n",
       "      <td>0.016187</td>\n",
       "      <td>0.045101</td>\n",
       "      <td>0.005417</td>\n",
       "      <td>0.021980</td>\n",
       "      <td>0.041477</td>\n",
       "      <td>0.000638</td>\n",
       "      <td>1.000000</td>\n",
       "      <td>0.041084</td>\n",
       "      <td>0.040759</td>\n",
       "      <td>0.041109</td>\n",
       "      <td>0.031596</td>\n",
       "      <td>0.026845</td>\n",
       "      <td>0.003778</td>\n",
       "      <td>0.007183</td>\n",
       "      <td>0.024976</td>\n",
       "      <td>0.005848</td>\n",
       "      <td>0.028856</td>\n",
       "      <td>0.008823</td>\n",
       "      <td>0.057298</td>\n",
       "      <td>0.036528</td>\n",
       "    </tr>\n",
       "    <tr>\n",
       "      <th>m_dep</th>\n",
       "      <td>0.017010</td>\n",
       "      <td>0.013229</td>\n",
       "      <td>0.023744</td>\n",
       "      <td>0.048199</td>\n",
       "      <td>0.017144</td>\n",
       "      <td>0.037858</td>\n",
       "      <td>0.041084</td>\n",
       "      <td>1.000000</td>\n",
       "      <td>0.053034</td>\n",
       "      <td>0.020967</td>\n",
       "      <td>0.019481</td>\n",
       "      <td>0.008807</td>\n",
       "      <td>0.023390</td>\n",
       "      <td>0.006886</td>\n",
       "      <td>0.021827</td>\n",
       "      <td>0.023862</td>\n",
       "      <td>0.016902</td>\n",
       "      <td>0.031737</td>\n",
       "      <td>0.001893</td>\n",
       "      <td>0.024493</td>\n",
       "    </tr>\n",
       "    <tr>\n",
       "      <th>mobile_wt</th>\n",
       "      <td>0.011705</td>\n",
       "      <td>0.029245</td>\n",
       "      <td>0.008879</td>\n",
       "      <td>0.016087</td>\n",
       "      <td>0.027141</td>\n",
       "      <td>0.015844</td>\n",
       "      <td>0.040759</td>\n",
       "      <td>0.053034</td>\n",
       "      <td>1.000000</td>\n",
       "      <td>0.006866</td>\n",
       "      <td>0.003947</td>\n",
       "      <td>0.009501</td>\n",
       "      <td>0.026278</td>\n",
       "      <td>0.046080</td>\n",
       "      <td>0.072128</td>\n",
       "      <td>0.026295</td>\n",
       "      <td>0.014507</td>\n",
       "      <td>0.019863</td>\n",
       "      <td>0.010190</td>\n",
       "      <td>0.007817</td>\n",
       "    </tr>\n",
       "    <tr>\n",
       "      <th>n_cores</th>\n",
       "      <td>0.017015</td>\n",
       "      <td>0.044718</td>\n",
       "      <td>0.011135</td>\n",
       "      <td>0.021266</td>\n",
       "      <td>0.006261</td>\n",
       "      <td>0.024001</td>\n",
       "      <td>0.041109</td>\n",
       "      <td>0.020967</td>\n",
       "      <td>0.006866</td>\n",
       "      <td>1.000000</td>\n",
       "      <td>0.004117</td>\n",
       "      <td>0.006308</td>\n",
       "      <td>0.025477</td>\n",
       "      <td>0.007089</td>\n",
       "      <td>0.005188</td>\n",
       "      <td>0.007084</td>\n",
       "      <td>0.050324</td>\n",
       "      <td>0.003143</td>\n",
       "      <td>0.030234</td>\n",
       "      <td>0.009171</td>\n",
       "    </tr>\n",
       "    <tr>\n",
       "      <th>pc</th>\n",
       "      <td>0.003270</td>\n",
       "      <td>0.003586</td>\n",
       "      <td>0.003518</td>\n",
       "      <td>0.022957</td>\n",
       "      <td>0.644348</td>\n",
       "      <td>0.016605</td>\n",
       "      <td>0.031596</td>\n",
       "      <td>0.019481</td>\n",
       "      <td>0.003947</td>\n",
       "      <td>0.004117</td>\n",
       "      <td>1.000000</td>\n",
       "      <td>0.014816</td>\n",
       "      <td>0.041898</td>\n",
       "      <td>0.000169</td>\n",
       "      <td>0.002968</td>\n",
       "      <td>0.034817</td>\n",
       "      <td>0.002349</td>\n",
       "      <td>0.008472</td>\n",
       "      <td>0.007815</td>\n",
       "      <td>0.012322</td>\n",
       "    </tr>\n",
       "    <tr>\n",
       "      <th>px_height</th>\n",
       "      <td>0.003244</td>\n",
       "      <td>0.008351</td>\n",
       "      <td>0.016482</td>\n",
       "      <td>0.028301</td>\n",
       "      <td>0.016191</td>\n",
       "      <td>0.051457</td>\n",
       "      <td>0.026845</td>\n",
       "      <td>0.008807</td>\n",
       "      <td>0.009501</td>\n",
       "      <td>0.006308</td>\n",
       "      <td>0.014816</td>\n",
       "      <td>1.000000</td>\n",
       "      <td>0.507443</td>\n",
       "      <td>0.008768</td>\n",
       "      <td>0.053254</td>\n",
       "      <td>0.019898</td>\n",
       "      <td>0.009717</td>\n",
       "      <td>0.055214</td>\n",
       "      <td>0.008067</td>\n",
       "      <td>0.048551</td>\n",
       "    </tr>\n",
       "    <tr>\n",
       "      <th>px_width</th>\n",
       "      <td>0.019042</td>\n",
       "      <td>0.030716</td>\n",
       "      <td>0.012462</td>\n",
       "      <td>0.016451</td>\n",
       "      <td>0.050449</td>\n",
       "      <td>0.009528</td>\n",
       "      <td>0.003778</td>\n",
       "      <td>0.023390</td>\n",
       "      <td>0.026278</td>\n",
       "      <td>0.025477</td>\n",
       "      <td>0.041898</td>\n",
       "      <td>0.507443</td>\n",
       "      <td>1.000000</td>\n",
       "      <td>0.023148</td>\n",
       "      <td>0.026920</td>\n",
       "      <td>0.039929</td>\n",
       "      <td>0.008690</td>\n",
       "      <td>0.002923</td>\n",
       "      <td>0.007885</td>\n",
       "      <td>0.022734</td>\n",
       "    </tr>\n",
       "    <tr>\n",
       "      <th>ram</th>\n",
       "      <td>0.013218</td>\n",
       "      <td>0.051306</td>\n",
       "      <td>0.022962</td>\n",
       "      <td>0.011901</td>\n",
       "      <td>0.001307</td>\n",
       "      <td>0.000408</td>\n",
       "      <td>0.007183</td>\n",
       "      <td>0.006886</td>\n",
       "      <td>0.046080</td>\n",
       "      <td>0.007089</td>\n",
       "      <td>0.000169</td>\n",
       "      <td>0.008768</td>\n",
       "      <td>0.023148</td>\n",
       "      <td>1.000000</td>\n",
       "      <td>0.000824</td>\n",
       "      <td>0.021422</td>\n",
       "      <td>0.005407</td>\n",
       "      <td>0.025864</td>\n",
       "      <td>0.026018</td>\n",
       "      <td>0.036946</td>\n",
       "    </tr>\n",
       "    <tr>\n",
       "      <th>sc_h</th>\n",
       "      <td>0.022521</td>\n",
       "      <td>0.006653</td>\n",
       "      <td>0.004114</td>\n",
       "      <td>0.008547</td>\n",
       "      <td>0.010459</td>\n",
       "      <td>0.014643</td>\n",
       "      <td>0.024976</td>\n",
       "      <td>0.021827</td>\n",
       "      <td>0.072128</td>\n",
       "      <td>0.005188</td>\n",
       "      <td>0.002968</td>\n",
       "      <td>0.053254</td>\n",
       "      <td>0.026920</td>\n",
       "      <td>0.000824</td>\n",
       "      <td>1.000000</td>\n",
       "      <td>0.493816</td>\n",
       "      <td>0.028085</td>\n",
       "      <td>0.023788</td>\n",
       "      <td>0.032542</td>\n",
       "      <td>0.028215</td>\n",
       "    </tr>\n",
       "    <tr>\n",
       "      <th>sc_w</th>\n",
       "      <td>0.022134</td>\n",
       "      <td>0.016512</td>\n",
       "      <td>0.020765</td>\n",
       "      <td>0.003648</td>\n",
       "      <td>0.008810</td>\n",
       "      <td>0.015249</td>\n",
       "      <td>0.005848</td>\n",
       "      <td>0.023862</td>\n",
       "      <td>0.026295</td>\n",
       "      <td>0.007084</td>\n",
       "      <td>0.034817</td>\n",
       "      <td>0.019898</td>\n",
       "      <td>0.039929</td>\n",
       "      <td>0.021422</td>\n",
       "      <td>0.493816</td>\n",
       "      <td>1.000000</td>\n",
       "      <td>0.029864</td>\n",
       "      <td>0.021748</td>\n",
       "      <td>0.021406</td>\n",
       "      <td>0.024893</td>\n",
       "    </tr>\n",
       "    <tr>\n",
       "      <th>talk_time</th>\n",
       "      <td>0.038071</td>\n",
       "      <td>0.029351</td>\n",
       "      <td>0.000566</td>\n",
       "      <td>0.047028</td>\n",
       "      <td>0.003483</td>\n",
       "      <td>0.045681</td>\n",
       "      <td>0.028856</td>\n",
       "      <td>0.016902</td>\n",
       "      <td>0.014507</td>\n",
       "      <td>0.050324</td>\n",
       "      <td>0.002349</td>\n",
       "      <td>0.009717</td>\n",
       "      <td>0.008690</td>\n",
       "      <td>0.005407</td>\n",
       "      <td>0.028085</td>\n",
       "      <td>0.029864</td>\n",
       "      <td>1.000000</td>\n",
       "      <td>0.044012</td>\n",
       "      <td>0.006389</td>\n",
       "      <td>0.013554</td>\n",
       "    </tr>\n",
       "    <tr>\n",
       "      <th>three_g</th>\n",
       "      <td>0.010436</td>\n",
       "      <td>0.018932</td>\n",
       "      <td>0.046305</td>\n",
       "      <td>0.018560</td>\n",
       "      <td>0.007020</td>\n",
       "      <td>0.595575</td>\n",
       "      <td>0.008823</td>\n",
       "      <td>0.031737</td>\n",
       "      <td>0.019863</td>\n",
       "      <td>0.003143</td>\n",
       "      <td>0.008472</td>\n",
       "      <td>0.055214</td>\n",
       "      <td>0.002923</td>\n",
       "      <td>0.025864</td>\n",
       "      <td>0.023788</td>\n",
       "      <td>0.021748</td>\n",
       "      <td>0.044012</td>\n",
       "      <td>1.000000</td>\n",
       "      <td>0.006997</td>\n",
       "      <td>0.000586</td>\n",
       "    </tr>\n",
       "    <tr>\n",
       "      <th>touch_screen</th>\n",
       "      <td>0.023003</td>\n",
       "      <td>0.023140</td>\n",
       "      <td>0.014256</td>\n",
       "      <td>0.001551</td>\n",
       "      <td>0.004752</td>\n",
       "      <td>0.000143</td>\n",
       "      <td>0.057298</td>\n",
       "      <td>0.001893</td>\n",
       "      <td>0.010190</td>\n",
       "      <td>0.030234</td>\n",
       "      <td>0.007815</td>\n",
       "      <td>0.008067</td>\n",
       "      <td>0.007885</td>\n",
       "      <td>0.026018</td>\n",
       "      <td>0.032542</td>\n",
       "      <td>0.021406</td>\n",
       "      <td>0.006389</td>\n",
       "      <td>0.006997</td>\n",
       "      <td>1.000000</td>\n",
       "      <td>0.014075</td>\n",
       "    </tr>\n",
       "    <tr>\n",
       "      <th>wifi</th>\n",
       "      <td>0.005806</td>\n",
       "      <td>0.025846</td>\n",
       "      <td>0.016047</td>\n",
       "      <td>0.035774</td>\n",
       "      <td>0.011708</td>\n",
       "      <td>0.026592</td>\n",
       "      <td>0.036528</td>\n",
       "      <td>0.024493</td>\n",
       "      <td>0.007817</td>\n",
       "      <td>0.009171</td>\n",
       "      <td>0.012322</td>\n",
       "      <td>0.048551</td>\n",
       "      <td>0.022734</td>\n",
       "      <td>0.036946</td>\n",
       "      <td>0.028215</td>\n",
       "      <td>0.024893</td>\n",
       "      <td>0.013554</td>\n",
       "      <td>0.000586</td>\n",
       "      <td>0.014075</td>\n",
       "      <td>1.000000</td>\n",
       "    </tr>\n",
       "  </tbody>\n",
       "</table>\n",
       "</div>"
      ]
     },
     "metadata": {},
     "output_type": "display_data"
    }
   ],
   "metadata": {
    "datalore": {
     "node_id": "PLsNdEAAnrtRHQUIm6aRFE",
     "type": "CODE",
     "hide_input_from_viewers": false,
     "hide_output_from_viewers": false,
     "report_properties": {
      "rowId": "EMz8lHCHh5kdexW29CSuGR"
     }
    }
   }
  },
  {
   "cell_type": "code",
   "source": [
    "# Detecting correlation with target column\n",
    "target_column = 'price_range'\n",
    "\n",
    "# Negative or positive correlation only means the direction of the correlation\n",
    "# What's important here is the magnitude, hence abs()\n",
    "# TODO: Tweak threshold\n",
    "low_correlation_threshold = 0.01\n",
    "\n",
    "correlations = df.corr()[target_column].abs()\n",
    "filtered_correlations = correlations[correlations < low_correlation_threshold].sort_values(ascending=True)\n",
    "\n",
    "print(f\"Feature with correlation to target lower than threshold ({low_correlation_threshold}):\")\n",
    "filtered_correlations_string = ', '.join(filtered_correlations.index)\n",
    "filtered_correlations_string = \"[\" + filtered_correlations_string + ']'\n",
    "print(filtered_correlations_string)"
   ],
   "execution_count": 90,
   "outputs": [
    {
     "name": "stdout",
     "text": [
      "Feature with correlation to target lower than threshold (0.01):\n",
      "[four_g, n_cores, m_dep, fc, pc]\n"
     ],
     "output_type": "stream"
    }
   ],
   "metadata": {
    "datalore": {
     "node_id": "qgugrqebA6LWCWahD1mBCm",
     "type": "CODE",
     "hide_input_from_viewers": false,
     "hide_output_from_viewers": false,
     "report_properties": {
      "rowId": "QpzWOalNfyHeqT5cDmm1r1"
     }
    }
   }
  },
  {
   "cell_type": "code",
   "source": [
    "# Selain feature selection, optimize juga yak, misal kaya normalisasi atau standarisasi, bisa cek pake naive bayesnya dulu aja\n",
    "# Pokoknya biar improve efficiency ajah hehe\n",
    "\n",
    "# Feature selection for KNN\n",
    "# List dulu apa aja fiturnya, udah gitu tulis korelasinya disini\n",
    "# fc sama clock speed jangan dipake (hapus), korelasinya mendekati 0, ilangin aja \n",
    "# ram, px_width, px_height, battery_power\n",
    "# pake semua, hapus 2, pake 4, hapus 2 dan pake 4\n",
    "\n",
    "# Feature selection for Naive Bayes\n",
    "\n",
    "# initial template\n",
    "# numerical_features = [\n",
    "#     'battery_power',\n",
    "#     'clock_speed',\n",
    "#     'fc',\n",
    "#     'int_memory',\n",
    "#     'm_dep',\n",
    "#     'mobile_wt',\n",
    "#     'n_cores',\n",
    "#     'pc',\n",
    "#     'px_height',\n",
    "#     'px_width',\n",
    "#     'ram',\n",
    "#     'sc_h',\n",
    "#     'sc_w',\n",
    "#     'talk_time'\n",
    "# ]\n",
    "\n",
    "# nominal_features = nominal_columns"
   ],
   "execution_count": 91,
   "outputs": [],
   "metadata": {
    "datalore": {
     "node_id": "1KDcu46Sy2BWBeywBDZGdm",
     "type": "CODE",
     "hide_input_from_viewers": false,
     "hide_output_from_viewers": false,
     "report_properties": {
      "rowId": "vPlSd1yoKTeZxstiMUdyZO"
     }
    }
   }
  },
  {
   "cell_type": "code",
   "source": [
    "### Kesimpulan feature selection\n",
    "## fitur yang dapat dihilangkan\n",
    "# Semua nominal feature di drop karena nilai p semua fitur terlalu tinggi\n",
    "# ['blue', 'dual_sim', 'four_g', 'three_g', 'touch_screen', 'wifi']\n",
    "\n",
    "# Feature dengan korelasi di bawah threshold\n",
    "# [n_cores, m_dep, fc, pc]\n",
    "\n",
    "# Fitur satu sama lain korelasinya cukup tinggi untuk digabung/dihilangkan\n",
    "# [('px_height', 'px_width')] menjadi 'px_area'\n",
    "# [('sc_w', 'sc_h')] menjadi 'sc_area'\n",
    "\n",
    "# Fitur numerik yang bagus berdasarkan anova\n",
    "# [battery_power, int_memory, mobile_wt, px_height, px_width, ram]\n",
    "# Yang dapat tidak dipakai\n",
    "# [clock_speed, fc, m_dep, n_cores, pc, sc_h, sc_w, dan talk time]"
   ],
   "execution_count": 92,
   "outputs": [],
   "metadata": {
    "datalore": {
     "node_id": "XfOY5Yg5bw45Aa4OiUTZjd",
     "type": "CODE",
     "hide_input_from_viewers": false,
     "hide_output_from_viewers": false,
     "report_properties": {
      "rowId": "JheTDEezzSEb9UBQo9Oazn"
     }
    }
   }
  },
  {
   "cell_type": "code",
   "source": [
    "# Fitur akhir yang dipilih {TODO: Tweak chosen features}\n",
    "df = pd.read_csv(\"data/data_train.csv\")\n",
    "# df['px_area'] = df['px_height'] * df['px_width']\n",
    "# df['sc_area'] = df['sc_w'] * df['sc_h']\n",
    "\n",
    "chosen_numerical_features = [\n",
    "    'battery_power',\n",
    "    'int_memory',\n",
    "    'mobile_wt',\n",
    "    'px_height',\n",
    "    'px_width',\n",
    "    'ram',\n",
    "    \n",
    "    # yang di bawah ini gak top priority tapi bisa coba untuk tweaking\n",
    "    # 'clock_speed',\n",
    "    # 'sc_h',\n",
    "    # 'sc_w',\n",
    "    # 'talk_time',\n",
    "    # 'sc_area',\n",
    "\n",
    "    # 'px_area', # ini ternyata malah nurunin akurasi\n",
    "]\n",
    "\n",
    "# Gak ada\n",
    "chosen_nominal_features = [\n",
    "\n",
    "]"
   ],
   "execution_count": 93,
   "outputs": [],
   "metadata": {
    "datalore": {
     "node_id": "O7OC2tYcg5GKYhuDGiKse2",
     "type": "CODE",
     "hide_input_from_viewers": false,
     "hide_output_from_viewers": false,
     "report_properties": {
      "rowId": "32mNS9yLxROeTsIRNWs6yW"
     }
    }
   }
  },
  {
   "cell_type": "code",
   "source": [
    "# Check for duplicates just to be sure\n",
    "print(f\"Duplicates: {df.duplicated().sum()}\")"
   ],
   "execution_count": 94,
   "outputs": [
    {
     "name": "stdout",
     "text": [
      "Duplicates: 0\n"
     ],
     "output_type": "stream"
    }
   ],
   "metadata": {
    "datalore": {
     "node_id": "qg4y6ho8Vl2LvYOdFvl0pw",
     "type": "CODE",
     "hide_input_from_viewers": false,
     "hide_output_from_viewers": false,
     "report_properties": {
      "rowId": "vDChqBeaemkOIP6Ri3yaRK"
     }
    }
   }
  },
  {
   "cell_type": "code",
   "source": [
    "# Remove outlier {TODO: Tweak n_std}\n",
    "\n",
    "# Bagusan pake rata - rata atau pake kuartil?\n",
    "def remove_outliers(df_func,columns,n_std = 3):\n",
    "    total_outliers = 0\n",
    "    for col in columns:\n",
    "\n",
    "        mean = df_func[col].mean()\n",
    "        sd = df_func[col].std()\n",
    "        \n",
    "        top_limit = mean + (n_std * sd)\n",
    "        bottom_limit = mean - (n_std * sd)\n",
    "\n",
    "        upper_outliers = np.array(df_func[col] > top_limit)\n",
    "        lower_outliers = np.array(df_func[col] < bottom_limit)\n",
    "        total_outliers += upper_outliers.sum() + lower_outliers.sum()\n",
    "        # print(f\"Working on column {col}\")\n",
    "        # print(f\"Bounds\\t\\t: {bottom_limit} and {top_limit}\")\n",
    "        # print(f\"upper outliers\\t: {upper_outliers.sum()}\")\n",
    "        # print(f\"lower outliers\\t: {lower_outliers.sum()}\")\n",
    "        # print(f\"total outliers\\t: {upper_outliers.sum() + lower_outliers.sum()}\")\n",
    "        # print(\"------------------------------------------\")\n",
    "\n",
    "        df_func = df_func[(df_func[col] >= bottom_limit) &\n",
    "                          (df_func[col] <= top_limit)]\n",
    "    print(f\"Outliers: {total_outliers}\")\n",
    "\n",
    "    return df_func\n",
    "\n",
    "df = remove_outliers(df, chosen_numerical_features, 3)"
   ],
   "execution_count": 95,
   "outputs": [
    {
     "name": "stdout",
     "text": [
      "Outliers: 0\n"
     ],
     "output_type": "stream"
    }
   ],
   "metadata": {
    "datalore": {
     "node_id": "BWa8aYxZo3F4f7sgQu1nwN",
     "type": "CODE",
     "hide_input_from_viewers": false,
     "hide_output_from_viewers": false,
     "report_properties": {
      "rowId": "0srAOQ31jvCl7SuUGG9qpR"
     }
    }
   }
  },
  {
   "cell_type": "markdown",
   "source": [],
   "attachments": {},
   "metadata": {
    "datalore": {
     "node_id": "6L39H9nL5pbWM3QHMDX0jk",
     "type": "MD",
     "hide_input_from_viewers": false,
     "hide_output_from_viewers": false,
     "report_properties": {
      "rowId": "qee7IvHdYQQSDb2kMN9Y0d"
     }
    }
   }
  },
  {
   "cell_type": "code",
   "source": [
    "# Split data\n",
    "#def train_test_split(dataframe, split_frac):\n",
    "#    n_split = int(len(dataframe) * split_frac)\n",
    "#    randomized = df.sample(frac=1)\n",
    "#    return randomized[:n_split], randomized[n_split:]\n",
    "\n",
    "\n",
    "# df_train, df_test = train_test_split(df, 0.8)\n",
    "#x_train, x_test, y_train, y_test = train_test_split(df.drop('price_range', axis=1), df['price_range'], test_size=0.3, random_state=42)\n",
    "\n",
    "x_train = df.drop('price_range', axis=1)\n",
    "y_train = df['price_range']\n",
    "df_validate = pd.read_csv(\"data/data_validation.csv\")\n",
    "x_test = df_validate.drop('price_range', axis=1)\n",
    "y_test = df_validate['price_range']"
   ],
   "execution_count": 96,
   "outputs": [],
   "metadata": {
    "datalore": {
     "node_id": "juht14laG8xc5IpsxN5H2n",
     "type": "CODE",
     "hide_input_from_viewers": false,
     "hide_output_from_viewers": false,
     "report_properties": {
      "rowId": "umPI5zoJHsMr8qyVRX0teM"
     }
    }
   }
  },
  {
   "cell_type": "code",
   "source": [
    "class Model(ABC):\n",
    "    @abstractmethod\n",
    "    def fit(self, x_data: np.matrix, y_data: np.matrix):\n",
    "        pass\n",
    "    \n",
    "    @abstractmethod\n",
    "    def predict(self, x_data: np.matrix):\n",
    "        pass\n",
    "    \n",
    "    def dump(self, filename: str):\n",
    "        with open(filename, \"wb\") as f:\n",
    "            pickle.dump(self, f)\n",
    "    \n",
    "    @staticmethod\n",
    "    def load(filename: str):\n",
    "        with open(filename, \"rb\") as f:\n",
    "            return pickle.load(f)"
   ],
   "execution_count": 97,
   "outputs": [],
   "metadata": {
    "datalore": {
     "node_id": "xaQCkZKfywcs2IN5ygLjRg",
     "type": "CODE",
     "hide_input_from_viewers": false,
     "hide_output_from_viewers": false,
     "report_properties": {
      "rowId": "Pyf2cNza5yz2Tq813VKvRc"
     }
    }
   }
  },
  {
   "cell_type": "code",
   "source": [
    "class KNN(Model):\n",
    "    def __init__(self, nominals, numericals, target, k=5):\n",
    "        self.k = k\n",
    "        self.numerics = numericals\n",
    "        self.nominals = nominals\n",
    "        self.target = target\n",
    "        self.features_data = None\n",
    "        self.target_data = None\n",
    "\n",
    "    def fit(self, x_data, y_data):\n",
    "        self.features_data = x_data\n",
    "        self.target_data = y_data\n",
    "\n",
    "    def predict(self, x_data):\n",
    "        if self.features_data is None or self.target_data is None:\n",
    "            raise Exception(\"Invalid data\")\n",
    "\n",
    "        predictions = []\n",
    "        for i, row in x_data.iterrows():\n",
    "            # Get the distance between the data\n",
    "            ## Nominal\n",
    "            nom_dist = np.sum(row[self.nominals] != self.features_data[self.nominals], axis=1)\n",
    "            ## Numeric (using Euclidean)\n",
    "            num_dist = np.sqrt(np.sum(np.square(row[self.numerics] - self.features_data[self.numerics]), axis=1))\n",
    "\n",
    "            distances = nom_dist + num_dist\n",
    "\n",
    "            # Get the k nearest neighbors\n",
    "            neighbors = np.argsort(distances)[:self.k]\n",
    "\n",
    "            # Get the most common class\n",
    "            classes = Counter(self.target_data.iloc[neighbors])\n",
    "            max_class = classes.most_common(1)[0][0]\n",
    "\n",
    "            predictions.append([i, max_class])\n",
    "        return pd.DataFrame(predictions, columns=['id', 'price_range'])\n",
    "\n",
    "    def __str__(self):\n",
    "        return \"KNN(k={})\".format(self.k)\n"
   ],
   "execution_count": 98,
   "outputs": [],
   "metadata": {
    "datalore": {
     "node_id": "ZahC4CJy9kd5MITWEi1mKc",
     "type": "CODE",
     "hide_input_from_viewers": false,
     "hide_output_from_viewers": false,
     "report_properties": {
      "rowId": "WvyRISj0EtmPYSr941l2Rz"
     }
    }
   }
  },
  {
   "cell_type": "code",
   "source": [
    "knn = KNN(chosen_nominal_features, chosen_numerical_features, \"price_range\")\n",
    "knn.fit(x_train, y_train)\n",
    "df_pred = knn.predict(x_test)\n",
    "\n",
    "print(df_pred)\n",
    "accuracy = accuracy_score(y_test, df_pred['price_range'])\n",
    "precision = precision_score(y_test, df_pred['price_range'], average='weighted')\n",
    "recall = recall_score(y_test, df_pred['price_range'], average='weighted')\n",
    "\n",
    "print(\"------------------------------------------------\")\n",
    "print(f\"Accuracy: {accuracy}\")\n",
    "print(f\"Precision: {precision}\")\n",
    "print(f\"Recall: {recall}\")"
   ],
   "execution_count": 107,
   "outputs": [
    {
     "name": "stdout",
     "text": [
      "      id  price_range\n",
      "0      0            1\n",
      "1      1            2\n",
      "2      2            3\n",
      "3      3            0\n",
      "4      4            2\n",
      "..   ...          ...\n",
      "595  595            1\n",
      "596  596            3\n",
      "597  597            0\n",
      "598  598            2\n",
      "599  599            3\n",
      "\n",
      "[600 rows x 2 columns]\n",
      "------------------------------------------------\n",
      "Accuracy: 0.925\n",
      "Precision: 0.9253007631703358\n",
      "Recall: 0.925\n"
     ],
     "output_type": "stream"
    }
   ],
   "metadata": {
    "datalore": {
     "node_id": "DJCPJ62Ko6ZdBElgP5fXDa",
     "type": "CODE",
     "hide_input_from_viewers": false,
     "hide_output_from_viewers": false,
     "report_properties": {
      "rowId": "BsxALPa4c7ufRHstubaAYl"
     }
    }
   }
  },
  {
   "cell_type": "code",
   "source": [
    "def calculate_probability(x, mean, std):\n",
    "    \"\"\"\n",
    "    Calculate the probability of a value in a normal distribution.\n",
    "    \n",
    "    Parameters:\n",
    "    - x: The value for which to calculate the probability.\n",
    "    - mean: The mean of the normal distribution.\n",
    "    - std: The standard deviation of the normal distribution.\n",
    "    \n",
    "    Returns:\n",
    "    - probability: The probability of the given value in the distribution.\n",
    "    \"\"\"\n",
    "    exponent = -((x - mean) ** 2) / (2 * std ** 2)\n",
    "    coefficient = 1 / (math.sqrt(2 * math.pi) * std)\n",
    "    probability = coefficient * math.exp(exponent)\n",
    "    return probability"
   ],
   "execution_count": 100,
   "outputs": [],
   "metadata": {
    "datalore": {
     "node_id": "2uX8ercuXgpNqkPyTeRtKr",
     "type": "CODE",
     "hide_input_from_viewers": false,
     "hide_output_from_viewers": false,
     "report_properties": {
      "rowId": "LjBgsVMFX9GSnLZcqad09F"
     }
    }
   }
  },
  {
   "cell_type": "code",
   "source": [
    "# Model Naive Bayes\n",
    "class NaiveBayes(Model):\n",
    "\n",
    "    def __init__(self, nominals, numericals):\n",
    "        self.pv = {}\n",
    "        self.table = {}\n",
    "        self.table_numerical = {}\n",
    "        self.nominal_features = nominals\n",
    "        self.numerical_features = numericals\n",
    "    \n",
    "    def fit(self, x_data, y_data):\n",
    "        # Get the probability P(Vi)\n",
    "        target = 'price_range'\n",
    "        for i in range(y_data.min(), y_data.max()+1):\n",
    "            self.pv[i] = len(y_data[y_data == i])/len(y_data)\n",
    "\n",
    "        data = x_data.join(y_data)\n",
    "\n",
    "        # Get the probability of value a given vi for every nominal feature\n",
    "        for feature in self.nominal_features:\n",
    "            values = x_data[feature].unique()\n",
    "            for j in values:\n",
    "                j_data = data[data[feature] == j]\n",
    "                for k in range(y_data.min(), y_data.max()+1):\n",
    "                    k_data = j_data[j_data[target] == k]\n",
    "                    self.table[(feature,j,k)] = len(k_data) / len(data) / self.pv[k]\n",
    "\n",
    "        # Get the gaussian distribution of a value given vi for every numerical feature\n",
    "        for feature in self.numerical_features:\n",
    "            for k in range(y_data.min(), y_data.max() + 1):\n",
    "                k_data = data[data[target] == k]\n",
    "                if not k_data.empty:\n",
    "                    mean = k_data[feature].mean()\n",
    "                    std = k_data[feature].std()\n",
    "                    self.table_numerical[(feature, k)] = {'mean': mean, 'std': std}\n",
    "\n",
    "\n",
    "    def predict(self, x_data):\n",
    "        predictions = []\n",
    "        for i, row in x_data.iterrows():\n",
    "            class_probability = []\n",
    "            for k in range(min(self.pv.keys()), max(self.pv.keys()) + 1):\n",
    "                p = self.pv[k]\n",
    "                for feature in x_data.columns:\n",
    "                    if feature in self.numerical_features:\n",
    "                        value = row[feature]\n",
    "                        mean = self.table_numerical[(feature, k)]['mean']\n",
    "                        std = self.table_numerical[(feature, k)]['std']\n",
    "                        p *= calculate_probability(value, mean, std)\n",
    "                    else:\n",
    "                        value = row[feature]\n",
    "                        if (feature, value, k) in self.table:\n",
    "                            p *= self.table[(feature, value, k)]\n",
    "\n",
    "                class_probability.append(p)\n",
    "            predictions.append([i, np.argmax(class_probability)])\n",
    "        return pd.DataFrame(predictions, columns=['id', 'price_range'])\n",
    "\n",
    "    \n",
    "    def __str__(self):\n",
    "        string = \"P(V):\\n\"\n",
    "        for key, value in self.pv.items():\n",
    "            string += f\"P(V{key}): {value}\\n\"\n",
    "        string += \"Table:\\n\"\n",
    "        for key, value in self.table.items():\n",
    "            string += f\"{key[0]} P({key[1]} | {key[2]}): {value}\\n\"\n",
    "        string += \"Numerical Table:\\n\"\n",
    "        for key, value in self.table_numerical.items():\n",
    "            string += f\"P({key[0]} | {key[1]}): {value}\\n\"\n",
    "        return string\n",
    "    "
   ],
   "execution_count": 101,
   "outputs": [],
   "metadata": {
    "datalore": {
     "node_id": "RtB5tvvswpbeZI2CzGQF7Z",
     "type": "CODE",
     "hide_input_from_viewers": false,
     "hide_output_from_viewers": false,
     "report_properties": {
      "rowId": "kphT2rqFfGhiEF2Wemn0wr"
     }
    }
   }
  },
  {
   "cell_type": "code",
   "source": [
    "nb = NaiveBayes(chosen_nominal_features, chosen_numerical_features)\n",
    "nb.fit(x_train, y_train)\n",
    "print(str(nb))\n",
    "\n",
    "df_pred = nb.predict(x_test)\n",
    "print(df_pred)\n",
    "accuracy = accuracy_score(y_test, df_pred['price_range'])\n",
    "precision = precision_score(y_test, df_pred['price_range'], average='weighted')\n",
    "recall = recall_score(y_test, df_pred['price_range'], average='weighted')\n",
    "\n",
    "print(\"------------------------------------------------\")\n",
    "print(f\"Accuracy: {accuracy}\")\n",
    "print(f\"Precision: {precision}\")\n",
    "print(f\"Recall: {recall}\")"
   ],
   "execution_count": 102,
   "outputs": [
    {
     "name": "stdout",
     "text": [
      "P(V):\n",
      "P(V0): 0.2557142857142857\n",
      "P(V1): 0.2542857142857143\n",
      "P(V2): 0.24642857142857144\n",
      "P(V3): 0.24357142857142858\n",
      "Table:\n",
      "Numerical Table:\n",
      "P(battery_power | 0): {'mean': 1123.0893854748604, 'std': 408.3168468849179}\n",
      "P(battery_power | 1): {'mean': 1242.991573033708, 'std': 426.2944858442114}\n",
      "P(battery_power | 2): {'mean': 1219.9797101449276, 'std': 441.2213652938581}\n",
      "P(battery_power | 3): {'mean': 1368.1524926686218, 'std': 409.8500302132808}\n",
      "P(int_memory | 0): {'mean': 31.782122905027933, 'std': 18.280034997621417}\n",
      "P(int_memory | 1): {'mean': 32.24438202247191, 'std': 17.366451287504116}\n",
      "P(int_memory | 2): {'mean': 29.785507246376813, 'std': 18.57058560774613}\n",
      "P(int_memory | 3): {'mean': 34.058651026392965, 'std': 18.258988679187105}\n",
      "P(mobile_wt | 0): {'mean': 141.24022346368716, 'std': 35.920131633007095}\n",
      "P(mobile_wt | 1): {'mean': 141.21629213483146, 'std': 35.60211836970086}\n",
      "P(mobile_wt | 2): {'mean': 141.768115942029, 'std': 34.252374271608275}\n",
      "P(mobile_wt | 3): {'mean': 133.07624633431084, 'std': 35.19341589472584}\n",
      "P(px_height | 0): {'mean': 532.4385474860335, 'std': 376.9067161561313}\n",
      "P(px_height | 1): {'mean': 664.9747191011236, 'std': 433.49172148786465}\n",
      "P(px_height | 2): {'mean': 622.8840579710145, 'std': 451.3378863791067}\n",
      "P(px_height | 3): {'mean': 757.2140762463343, 'std': 484.8883660864451}\n",
      "P(px_width | 0): {'mean': 1148.7234636871508, 'std': 419.2917117711225}\n",
      "P(px_width | 1): {'mean': 1246.7556179775281, 'std': 429.79826167982264}\n",
      "P(px_width | 2): {'mean': 1235.1478260869565, 'std': 415.41401126868817}\n",
      "P(px_width | 3): {'mean': 1381.7888563049853, 'std': 420.3580714443271}\n",
      "P(ram | 0): {'mean': 790.9469273743017, 'std': 355.1175368276274}\n",
      "P(ram | 1): {'mean': 1679.2949438202247, 'std': 452.1742840826208}\n",
      "P(ram | 2): {'mean': 2597.217391304348, 'std': 493.0901749445996}\n",
      "P(ram | 3): {'mean': 3438.1114369501465, 'std': 395.82244892715954}\n",
      "\n",
      "      id  price_range\n",
      "0      0            2\n",
      "1      1            2\n",
      "2      2            3\n",
      "3      3            0\n",
      "4      4            3\n",
      "..   ...          ...\n",
      "595  595            1\n",
      "596  596            3\n",
      "597  597            0\n",
      "598  598            1\n",
      "599  599            3\n",
      "\n",
      "[600 rows x 2 columns]\n",
      "------------------------------------------------\n",
      "Accuracy: 0.7933333333333333\n",
      "Precision: 0.7946776384842273\n",
      "Recall: 0.7933333333333333\n"
     ],
     "output_type": "stream"
    }
   ],
   "metadata": {
    "datalore": {
     "node_id": "U2mubU2mDamTriGumSeL15",
     "type": "CODE",
     "hide_input_from_viewers": false,
     "hide_output_from_viewers": false,
     "report_properties": {
      "rowId": "GAbldW3I437EkTdtCH1ENQ"
     }
    }
   }
  },
  {
   "cell_type": "code",
   "source": [
    "# Implementasi dengan library sklearn untuk perbandingan\n",
    "from sklearn.neighbors import KNeighborsClassifier\n",
    "from sklearn.naive_bayes import GaussianNB\n",
    "from sklearn.metrics import accuracy_score, precision_score, recall_score\n",
    "import pandas as pd\n",
    "\n",
    "#df_train = pd.read_csv(\"data/data_train.csv\")\n",
    "#df_validation = pd.read_csv(\"data/data_validation.csv\")\n",
    "a = x_train\n",
    "a = a[chosen_numerical_features]\n",
    "d = x_test\n",
    "d = d[chosen_numerical_features]\n",
    "\n",
    "print(\"#-1-KNN---------------------------------------------\")\n",
    "knn_library = KNeighborsClassifier() # TODO: Tweak\n",
    "\n",
    "knn_library.fit(a, y_train)\n",
    "pred = knn_library.predict(d)\n",
    "\n",
    "accuracy = accuracy_score(y_test, pred)\n",
    "precision = precision_score(y_test, pred, average='weighted')\n",
    "recall = recall_score(y_test, pred, average='weighted')\n",
    "\n",
    "print(f\"Accuracy: {accuracy}\")\n",
    "print(f\"Precision: {precision}\")\n",
    "print(f\"Recall: {recall}\")\n",
    "\n",
    "print(\"#-2-Naive-Bayes-------------------------------------\")\n",
    "nb_library = GaussianNB()\n",
    "\n",
    "nb_library.fit(a, y_train)\n",
    "pred = nb_library.predict(d)\n",
    "\n",
    "accuracy = accuracy_score(y_test, pred)\n",
    "precision = precision_score(y_test, pred, average='weighted')\n",
    "recall = recall_score(y_test, pred, average='weighted')\n",
    "\n",
    "print(f\"Accuracy: {accuracy}\")\n",
    "print(f\"Precision: {precision}\")\n",
    "print(f\"Recall: {recall}\")"
   ],
   "execution_count": 103,
   "outputs": [
    {
     "name": "stdout",
     "text": [
      "#-1-KNN---------------------------------------------\n",
      "Accuracy: 0.925\n",
      "Precision: 0.9253007631703358\n",
      "Recall: 0.925\n",
      "#-2-Naive-Bayes-------------------------------------\n",
      "Accuracy: 0.7933333333333333\n",
      "Precision: 0.7946776384842273\n",
      "Recall: 0.7933333333333333\n"
     ],
     "output_type": "stream"
    }
   ],
   "metadata": {
    "datalore": {
     "node_id": "8TYJ5ZYrtsRXePy4dEMsOZ",
     "type": "CODE",
     "hide_input_from_viewers": false,
     "hide_output_from_viewers": false,
     "report_properties": {
      "rowId": "hKs8bckr2rF2UD3d7v4KH7"
     }
    }
   }
  },
  {
   "cell_type": "code",
   "source": [
    "# For kaggle submission\n",
    "test = pd.read_csv(\"data/test.csv\")\n",
    "knn = KNN(chosen_nominal_features, chosen_numerical_features, \"price_range\")\n",
    "knn.fit(x_train, y_train)\n",
    "prediction_knn = knn.predict(test)\n",
    "prediction_knn.to_csv(\"submission_knn.csv\", index=False)\n",
    "\n",
    "nb = NaiveBayes(chosen_nominal_features, chosen_numerical_features)\n",
    "nb.fit(x_train, y_train)\n",
    "prediction_nb = nb.predict(test)\n",
    "prediction_nb.to_csv(\"submission_nb.csv\", index=False)"
   ],
   "execution_count": 104,
   "outputs": [],
   "metadata": {
    "datalore": {
     "node_id": "hhE28MFy4l72DbuDAFlocB",
     "type": "CODE",
     "hide_input_from_viewers": false,
     "hide_output_from_viewers": false,
     "report_properties": {
      "rowId": "nLjkzTJMVOjaZMoETFMpPJ"
     }
    }
   }
  }
 ],
 "metadata": {
  "kernelspec": {
   "display_name": "Python",
   "language": "python",
   "name": "python"
  },
  "datalore": {
   "computation_mode": "JUPYTER",
   "package_manager": "pip",
   "base_environment": "default",
   "packages": [],
   "report_row_ids": [
    "0bz32bcjQDFKOzMsMonpyc",
    "RXV97JN6IcVkYYnvyckbkE",
    "sOmW1gerPakAv2U7KYQGcg",
    "sIJwB6qUVRSgbTb47wHvd2",
    "bwDOJEoadN6LLefc7d7v0u",
    "8DqGXof1WEhYuIrrLj3tlL",
    "x7znexdRM4ZGBJk0i68gjM",
    "sP40DbRw4GZy3NG5wO0Xcd",
    "EGPKFcDTNV5ebxiebzJNAn",
    "mnNtn4LiQBQsSnH6uEoct5",
    "z9A6RAiu2YDqidtz8oiMfM",
    "LfyR6qeYf4njAoFIOfRXwn",
    "lh0cLCN1PatsZuHKNetnpV",
    "7FBa4o8XDO63gdlUtcesO8",
    "fLYRB4UPuMCeMY6clujj88",
    "EMz8lHCHh5kdexW29CSuGR",
    "QpzWOalNfyHeqT5cDmm1r1",
    "vPlSd1yoKTeZxstiMUdyZO",
    "JheTDEezzSEb9UBQo9Oazn",
    "32mNS9yLxROeTsIRNWs6yW",
    "vDChqBeaemkOIP6Ri3yaRK",
    "0srAOQ31jvCl7SuUGG9qpR",
    "qee7IvHdYQQSDb2kMN9Y0d",
    "umPI5zoJHsMr8qyVRX0teM",
    "Pyf2cNza5yz2Tq813VKvRc",
    "WvyRISj0EtmPYSr941l2Rz",
    "BsxALPa4c7ufRHstubaAYl",
    "LjBgsVMFX9GSnLZcqad09F",
    "kphT2rqFfGhiEF2Wemn0wr",
    "GAbldW3I437EkTdtCH1ENQ",
    "hKs8bckr2rF2UD3d7v4KH7",
    "nLjkzTJMVOjaZMoETFMpPJ"
   ],
   "version": 3
  }
 },
 "nbformat": 4,
 "nbformat_minor": 4
}
